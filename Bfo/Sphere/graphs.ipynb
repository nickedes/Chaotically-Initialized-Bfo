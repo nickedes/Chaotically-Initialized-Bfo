{
 "cells": [
  {
   "cell_type": "code",
   "execution_count": 9,
   "metadata": {
    "collapsed": false
   },
   "outputs": [],
   "source": [
    "data ={\n",
    "    \"1\":\n",
    "    [\n",
    "        [7.560712438801254e-97, 200],\n",
    "        [1.614958375160561e-160, 400],\n",
    "        [3.4495301528948875e-224, 600],\n",
    "        [7.368151686601818e-288, 800],\n",
    "        [7e-323, 1000],\n",
    "        [7e-323, 1200]\n",
    "    ],\n",
    "    \"10\":\n",
    "    [\n",
    "        [0.08609574134928633, 200],\n",
    "        [0.02863190483862862, 400],\n",
    "        [0.01247647660296537, 600],\n",
    "        [0.01247647660296537, 800],\n",
    "        [0.01247647660296537, 1000],\n",
    "        [0.01247647660296537, 1200]\n",
    "    ],\n",
    "\n",
    "    \"2\":\n",
    "    [\n",
    "        [3.1554436208840472e-30, 200],\n",
    "        [3.1554436208840472e-30, 400],\n",
    "        [3.1554436208840472e-30, 600],\n",
    "        [3.1554436208840472e-30, 800],\n",
    "        [3.1554436208840472e-30, 1000],\n",
    "        [3.1554436208840472e-30, 1200]\n",
    "    ],\n",
    "\n",
    "    \"3\":\n",
    "    [\n",
    "        [0.0009849618528965872, 200],\n",
    "        [0.0009849618528965872, 400],\n",
    "        [0.0009849618528965872, 600],\n",
    "        [0.0009849618528965872, 800],\n",
    "        [0.0009849618528965872, 1000],\n",
    "        [0.0009849618528965872, 1200]\n",
    "    ],\n",
    "\n",
    "    \"4\":\n",
    "    [\n",
    "        [0.05613336589255908, 200],\n",
    "        [0.05613336589255908, 400],\n",
    "        [0.05613336589255908, 600],\n",
    "        [0.05613336589255908, 800],\n",
    "        [0.03247627143384805, 1000],\n",
    "        [0.03247627143384805, 1200]\n",
    "    ],\n",
    "\n",
    "    \"5\":\n",
    "    [\n",
    "        [0.000567505834672616, 200],\n",
    "        [0.000567505834672616, 400],\n",
    "        [4.291616296981801e-05, 600],\n",
    "        [4.291616296981801e-05, 800],\n",
    "        [4.291616296981801e-05, 1000],\n",
    "        [4.291616296981801e-05, 1200]\n",
    "    ],\n",
    "\n",
    "    \"6\":\n",
    "    [\n",
    "        [0.016163461166088244, 200],\n",
    "        [0.016163461166088244, 400],\n",
    "        [0.016163461166088244, 600],\n",
    "        [0.0022741773431024827, 800],\n",
    "        [0.0012559871253993169, 1000],\n",
    "        [0.0012559871253993169, 1200]\n",
    "    ],\n",
    "\n",
    "    \"7\":\n",
    "    [\n",
    "        [2.6881477773337917e-06, 200],\n",
    "        [2.6881477773337917e-06, 400],\n",
    "        [2.5965133053402895e-06, 600],\n",
    "        [2.5965133053402895e-06, 800],\n",
    "        [2.290224680691792e-09, 1000],\n",
    "        [2.290224680691792e-09, 1200]\n",
    "    ],\n",
    "\n",
    "    \"8\":\n",
    "    [\n",
    "        [0.04066971158415837, 200],\n",
    "        [0.04066971158415837, 400],\n",
    "        [0.04066971158415837, 600],\n",
    "        [0.04066971158415837, 800],\n",
    "        [0.04066971158415837, 1000],\n",
    "        [0.04066971158415837, 1200]\n",
    "    ],\n",
    "\n",
    "    \"9\":\n",
    "    [\n",
    "        [7.603336931535741e-59, 200],\n",
    "        [7.603336931535741e-59, 400],\n",
    "        [7.603336931535741e-59, 600],\n",
    "        [7.603336931535741e-59, 800],\n",
    "        [7.603336931535741e-59, 1000],\n",
    "        [7.603336931535741e-59, 1200]\n",
    "    ]\n",
    "}\n"
   ]
  },
  {
   "cell_type": "code",
   "execution_count": 10,
   "metadata": {
    "collapsed": true
   },
   "outputs": [],
   "source": [
    "import matplotlib.pyplot as plt\n",
    "%matplotlib inline"
   ]
  },
  {
   "cell_type": "code",
   "execution_count": 11,
   "metadata": {
    "collapsed": false
   },
   "outputs": [
    {
     "data": {
      "image/png": "[encoded data removed]",
      "text/plain": [
       "<matplotlib.figure.Figure at 0x7f47ac0fc0f0>"
      ]
     },
     "metadata": {},
     "output_type": "display_data"
    }
   ],
   "source": [
    "for x in data:\n",
    "    best, iteration = [], []\n",
    "    for value in data[x]:\n",
    "        best.append(value[0])\n",
    "        iteration.append(value[1])\n",
    "    \n",
    "#         print(value)\n",
    "    plt.plot(iteration, best, linewidth=4)\n",
    "    plt.legend(['y = x', 'y = 2x', 'y = 3x', 'y = 4x'], loc='upper left')\n",
    "plt.show()"
   ]
  },
  {
   "cell_type": "code",
   "execution_count": null,
   "metadata": {
    "collapsed": true
   },
   "outputs": [],
   "source": []
  },
  {
   "cell_type": "code",
   "execution_count": null,
   "metadata": {
    "collapsed": true
   },
   "outputs": [],
   "source": []
  }
 ],
 "metadata": {
  "kernelspec": {
   "display_name": "Python 3",
   "language": "python",
   "name": "python3"
  },
  "language_info": {
   "codemirror_mode": {
    "name": "ipython",
    "version": 3
   },
   "file_extension": ".py",
   "mimetype": "text/x-python",
   "name": "python",
   "nbconvert_exporter": "python",
   "pygments_lexer": "ipython3",
   "version": "3.4.3"
  }
 },
 "nbformat": 4,
 "nbformat_minor": 0
}
