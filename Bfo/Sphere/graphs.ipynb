{
 "cells": [
  {
   "cell_type": "code",
   "execution_count": 1,
   "metadata": {
    "collapsed": false
   },
   "outputs": [],
   "source": [
    "from json import load\n",
    "data = load(open(\"data_graphs.py\"))\n",
    "\n",
    "maps = {1:\"logistic\",\n",
    "2:\"gauss\",\n",
    "3:\"piecewise\",\n",
    "4:\"singer\",\n",
    "5:\"tent\",\n",
    "6:\"iterative\",\n",
    "7:\"sine\",\n",
    "8:\"circle\",\n",
    "9:\"sinusoidal\",\n",
    "10:\"chebyshev\"}"
   ]
  },
  {
   "cell_type": "code",
   "execution_count": 2,
   "metadata": {
    "collapsed": false
   },
   "outputs": [],
   "source": [
    "import matplotlib.pyplot as plt\n",
    "from math import e"
   ]
  },
  {
   "cell_type": "code",
   "execution_count": 3,
   "metadata": {
    "collapsed": false
   },
   "outputs": [],
   "source": [
    "axes = plt.gca()\n",
    "# axes.set_xlim([200, 1200])\n",
    "# axes.set_ylim([e**-300,e**-(0)])\n",
    "fig, ax = plt.subplots()\n",
    "ax.set_color_cycle(['red', 'black', 'yellow', 'deeppink', 'green', 'pink', 'darkcyan', 'darkviolet', 'cyan', 'brown'])\n",
    "for x in sorted(data.keys()):\n",
    "    best, iteration = [], []\n",
    "    for value in data[x]:\n",
    "        best.append(value[0])\n",
    "        iteration.append(value[1])\n",
    "    plt.plot(iteration, best, linewidth=2, label=maps[int(x)])\n",
    "    plt.yscale('log')\n",
    "    plt.legend(loc='center left', bbox_to_anchor=(1, 0.5))\n",
    "plt.grid(True)\n",
    "plt.savefig('graph.jpg', dpi=500)\n",
    "# plt.show()"
   ]
  },
  {
   "cell_type": "markdown",
   "metadata": {
    "collapsed": true
   },
   "source": []
  },
  {
   "cell_type": "code",
   "execution_count": null,
   "metadata": {
    "collapsed": true
   },
   "outputs": [],
   "source": []
  }
 ],
 "metadata": {
  "kernelspec": {
   "display_name": "Python 3",
   "language": "python",
   "name": "python3"
  },
  "language_info": {
   "codemirror_mode": {
    "name": "ipython",
    "version": 3
   },
   "file_extension": ".py",
   "mimetype": "text/x-python",
   "name": "python",
   "nbconvert_exporter": "python",
   "pygments_lexer": "ipython3",
   "version": "3.4.3"
  }
 },
 "nbformat": 4,
 "nbformat_minor": 0
}
