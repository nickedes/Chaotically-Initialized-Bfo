{
 "cells": [
  {
   "cell_type": "code",
   "execution_count": 6,
   "metadata": {
    "collapsed": false
   },
   "outputs": [],
   "source": [
    "data ={\n",
    "    \"1\":\n",
    "    [\n",
    "        [7e-97, 200],\n",
    "        [1e-160, 400],\n",
    "        [3e-224, 600],\n",
    "        [7e-288, 800],\n",
    "        [7e-323, 1000],\n",
    "        [7e-323, 1200]\n",
    "    ],\n",
    "    \"10\":\n",
    "    [\n",
    "        [8e-2, 200],\n",
    "        [2e-2, 400],\n",
    "        [1e-2, 600],\n",
    "        [1e-2, 800],\n",
    "        [1e-2, 1000],\n",
    "        [1e-2, 1200]\n",
    "    ],\n",
    "\n",
    "    \"2\":\n",
    "    [\n",
    "        [3e-30, 200],\n",
    "        [3e-30, 400],\n",
    "        [3e-30, 600],\n",
    "        [3e-30, 800],\n",
    "        [3e-30, 1000],\n",
    "        [3e-30, 1200]\n",
    "    ],\n",
    "\n",
    "    \"3\":\n",
    "    [\n",
    "        [9e-4, 200],\n",
    "        [9e-4, 400],\n",
    "        [9e-4, 600],\n",
    "        [9e-4, 800],\n",
    "        [9e-4, 1000],\n",
    "        [9e-4, 1200]\n",
    "    ],\n",
    "\n",
    "    \"4\":\n",
    "    [\n",
    "        [5e-2, 200],\n",
    "        [5e-2, 400],\n",
    "        [5e-2, 600],\n",
    "        [5e-2, 800],\n",
    "        [3e-2, 1000],\n",
    "        [3e-2, 1200]\n",
    "    ],\n",
    "\n",
    "    \"5\":\n",
    "    [\n",
    "        [5e-4, 200],\n",
    "        [5e-4, 400],\n",
    "        [4e-05, 600],\n",
    "        [4e-05, 800],\n",
    "        [4e-05, 1000],\n",
    "        [4e-05, 1200]\n",
    "    ],\n",
    "\n",
    "    \"6\":\n",
    "    [\n",
    "        [1e-2, 200],\n",
    "        [1e-2, 400],\n",
    "        [1e-2, 600],\n",
    "        [2e-3, 800],\n",
    "        [1e-3, 1000],\n",
    "        [1e-3, 1200]\n",
    "    ],\n",
    "\n",
    "    \"7\":\n",
    "    [\n",
    "        [2e-06, 200],\n",
    "        [2e-06, 400],\n",
    "        [2e-06, 600],\n",
    "        [2e-06, 800],\n",
    "        [2e-09, 1000],\n",
    "        [2e-09, 1200]\n",
    "    ],\n",
    "\n",
    "    \"8\":\n",
    "    [\n",
    "        [4e-2, 200],\n",
    "        [4e-2, 400],\n",
    "        [4e-2, 600],\n",
    "        [4e-2, 800],\n",
    "        [4e-2, 1000],\n",
    "        [4e-2, 1200]\n",
    "    ],\n",
    "\n",
    "    \"9\":\n",
    "    [\n",
    "        [7e-59, 200],\n",
    "        [7e-59, 400],\n",
    "        [7e-59, 600],\n",
    "        [7e-59, 800],\n",
    "        [7e-59, 1000],\n",
    "        [7e-59, 1200]\n",
    "    ]\n",
    "}\n",
    "\n",
    "maps = {1:\"logistic\",\n",
    "2:\"gauss\",\n",
    "3:\"piecewise\",\n",
    "4:\"singer\",\n",
    "5:\"tent\",\n",
    "6:\"iterative\",\n",
    "7:\"sine\",\n",
    "8:\"circle\",\n",
    "9:\"sinusoidal\",\n",
    "10:\"chebyshev\"}"
   ]
  },
  {
   "cell_type": "code",
   "execution_count": 7,
   "metadata": {
    "collapsed": false
   },
   "outputs": [],
   "source": [
    "import matplotlib.pyplot as plt\n",
    "from math import e"
   ]
  },
  {
   "cell_type": "code",
   "execution_count": null,
   "metadata": {
    "collapsed": false
   },
   "outputs": [],
   "source": [
    "axes = plt.gca()\n",
    "# axes.set_xlim([200, 1200])\n",
    "# axes.set_ylim([e**-300,e**-(0)])\n",
    "for x in data:\n",
    "    best, iteration = [], []\n",
    "    for value in data[x]:\n",
    "        best.append(value[0])\n",
    "        iteration.append(value[1])\n",
    "    plt.plot(iteration, best, linewidth=1, label=maps[int(x)])\n",
    "    plt.yscale('log')\n",
    "    plt.legend(loc='center left', bbox_to_anchor=(1, 0.5))\n",
    "plt.grid(True)\n",
    "plt.savefig('graph.png')\n",
    "plt.show()"
   ]
  },
  {
   "cell_type": "markdown",
   "metadata": {
    "collapsed": true
   },
   "source": []
  },
  {
   "cell_type": "code",
   "execution_count": null,
   "metadata": {
    "collapsed": true
   },
   "outputs": [],
   "source": []
  }
 ],
 "metadata": {
  "kernelspec": {
   "display_name": "Python 3",
   "language": "python",
   "name": "python3"
  },
  "language_info": {
   "codemirror_mode": {
    "name": "ipython",
    "version": 3
   },
   "file_extension": ".py",
   "mimetype": "text/x-python",
   "name": "python",
   "nbconvert_exporter": "python",
   "pygments_lexer": "ipython3",
   "version": "3.4.3"
  }
 },
 "nbformat": 4,
 "nbformat_minor": 0
}
