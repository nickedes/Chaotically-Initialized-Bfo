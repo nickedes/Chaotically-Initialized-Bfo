{
 "cells": [
  {
   "cell_type": "code",
   "execution_count": 17,
   "metadata": {
    "collapsed": true
   },
   "outputs": [],
   "source": [
    "import pandas as p"
   ]
  },
  {
   "cell_type": "code",
   "execution_count": 21,
   "metadata": {
    "collapsed": false
   },
   "outputs": [
    {
     "data": {
      "text/plain": [
       "'<table border=\"1\" class=\"dataframe\">\\n  <thead>\\n    <tr style=\"text-align: right;\">\\n      <th></th>\\n      <th>1</th>\\n      <th>10</th>\\n      <th>2</th>\\n      <th>3</th>\\n      <th>4</th>\\n      <th>5</th>\\n      <th>6</th>\\n      <th>7</th>\\n      <th>8</th>\\n      <th>9</th>\\n      <th>c_prob</th>\\n      <th>c_space</th>\\n      <th>c_tumble</th>\\n    </tr>\\n  </thead>\\n  <tbody>\\n    <tr>\\n      <th>0</th>\\n      <td>1.482197e-323</td>\\n      <td>0.001151</td>\\n      <td>1.000000e+00</td>\\n      <td>0.011319</td>\\n      <td>0.028613</td>\\n      <td>0.004145</td>\\n      <td>8.034325e-07</td>\\n      <td>2.786120e-09</td>\\n      <td>0.040819</td>\\n      <td>1.590702e-32</td>\\n      <td>0.8</td>\\n      <td>0.1</td>\\n      <td>0.17</td>\\n    </tr>\\n    <tr>\\n      <th>1</th>\\n      <td>4.446591e-323</td>\\n      <td>0.000304</td>\\n      <td>1.000000e+00</td>\\n      <td>1.250000</td>\\n      <td>0.078825</td>\\n      <td>0.008671</td>\\n      <td>4.105622e-06</td>\\n      <td>1.254784e-09</td>\\n      <td>0.041701</td>\\n      <td>2.209726e-137</td>\\n      <td>0.8</td>\\n      <td>0.2</td>\\n      <td>0.17</td>\\n    </tr>\\n    <tr>\\n      <th>2</th>\\n      <td>6.916919e-323</td>\\n      <td>0.001035</td>\\n      <td>3.155444e-30</td>\\n      <td>0.000985</td>\\n      <td>0.032476</td>\\n      <td>0.000043</td>\\n      <td>1.462510e-05</td>\\n      <td>2.290225e-09</td>\\n      <td>0.040670</td>\\n      <td>7.603337e-59</td>\\n      <td>0.8</td>\\n      <td>0.3</td>\\n      <td>0.17</td>\\n    </tr>\\n    <tr>\\n      <th>3</th>\\n      <td>6.916919e-323</td>\\n      <td>0.001178</td>\\n      <td>3.155444e-30</td>\\n      <td>0.012236</td>\\n      <td>0.032476</td>\\n      <td>0.000043</td>\\n      <td>8.613881e-06</td>\\n      <td>2.290225e-09</td>\\n      <td>0.040670</td>\\n      <td>7.603337e-59</td>\\n      <td>0.2</td>\\n      <td>0.3</td>\\n      <td>0.17</td>\\n    </tr>\\n    <tr>\\n      <th>4</th>\\n      <td>6.916919e-323</td>\\n      <td>0.000809</td>\\n      <td>3.155444e-30</td>\\n      <td>0.012236</td>\\n      <td>0.032476</td>\\n      <td>0.000043</td>\\n      <td>4.040380e-05</td>\\n      <td>2.290225e-09</td>\\n      <td>0.040670</td>\\n      <td>7.603337e-59</td>\\n      <td>0.5</td>\\n      <td>0.3</td>\\n      <td>0.17</td>\\n    </tr>\\n    <tr>\\n      <th>5</th>\\n      <td>6.916919e-323</td>\\n      <td>0.001035</td>\\n      <td>3.155444e-30</td>\\n      <td>0.000985</td>\\n      <td>0.032476</td>\\n      <td>0.000043</td>\\n      <td>1.462510e-05</td>\\n      <td>2.290225e-09</td>\\n      <td>0.040670</td>\\n      <td>7.603337e-59</td>\\n      <td>0.8</td>\\n      <td>0.3</td>\\n      <td>0.17</td>\\n    </tr>\\n    <tr>\\n      <th>6</th>\\n      <td>6.916919e-323</td>\\n      <td>0.000008</td>\\n      <td>3.155444e-30</td>\\n      <td>0.000985</td>\\n      <td>0.032476</td>\\n      <td>0.000043</td>\\n      <td>1.353021e-04</td>\\n      <td>2.290225e-09</td>\\n      <td>0.040670</td>\\n      <td>7.603337e-59</td>\\n      <td>0.8</td>\\n      <td>0.3</td>\\n      <td>0.10</td>\\n    </tr>\\n    <tr>\\n      <th>7</th>\\n      <td>6.916919e-323</td>\\n      <td>0.000028</td>\\n      <td>3.155444e-30</td>\\n      <td>0.000985</td>\\n      <td>0.032476</td>\\n      <td>0.000043</td>\\n      <td>1.238547e-05</td>\\n      <td>2.290225e-09</td>\\n      <td>0.040670</td>\\n      <td>7.603337e-59</td>\\n      <td>0.8</td>\\n      <td>0.3</td>\\n      <td>0.30</td>\\n    </tr>\\n    <tr>\\n      <th>8</th>\\n      <td>6.916919e-323</td>\\n      <td>0.012476</td>\\n      <td>3.155444e-30</td>\\n      <td>0.000985</td>\\n      <td>0.032476</td>\\n      <td>0.000043</td>\\n      <td>1.255987e-03</td>\\n      <td>2.290225e-09</td>\\n      <td>0.040670</td>\\n      <td>7.603337e-59</td>\\n      <td>0.8</td>\\n      <td>0.3</td>\\n      <td>0.50</td>\\n    </tr>\\n    <tr>\\n      <th>9</th>\\n      <td>1.482197e-323</td>\\n      <td>0.003034</td>\\n      <td>1.000000e+00</td>\\n      <td>0.012235</td>\\n      <td>0.028613</td>\\n      <td>0.004145</td>\\n      <td>3.718179e-04</td>\\n      <td>2.786120e-09</td>\\n      <td>0.040819</td>\\n      <td>1.590702e-32</td>\\n      <td>0.2</td>\\n      <td>0.1</td>\\n      <td>0.50</td>\\n    </tr>\\n    <tr>\\n      <th>10</th>\\n      <td>4.446591e-323</td>\\n      <td>0.332180</td>\\n      <td>1.000000e+00</td>\\n      <td>1.250000</td>\\n      <td>0.078825</td>\\n      <td>0.008671</td>\\n      <td>3.844106e-03</td>\\n      <td>1.254784e-09</td>\\n      <td>0.041701</td>\\n      <td>2.209726e-137</td>\\n      <td>0.5</td>\\n      <td>0.2</td>\\n      <td>0.50</td>\\n    </tr>\\n    <tr>\\n      <th>11</th>\\n      <td>6.916919e-323</td>\\n      <td>0.012476</td>\\n      <td>3.155444e-30</td>\\n      <td>0.000985</td>\\n      <td>0.032476</td>\\n      <td>0.000043</td>\\n      <td>1.255987e-03</td>\\n      <td>2.290225e-09</td>\\n      <td>0.040670</td>\\n      <td>7.603337e-59</td>\\n      <td>0.8</td>\\n      <td>0.3</td>\\n      <td>0.50</td>\\n    </tr>\\n    <tr>\\n      <th>12</th>\\n      <td>1.482197e-323</td>\\n      <td>0.000038</td>\\n      <td>1.000000e+00</td>\\n      <td>0.011319</td>\\n      <td>0.028613</td>\\n      <td>0.004145</td>\\n      <td>1.671792e-05</td>\\n      <td>2.786120e-09</td>\\n      <td>0.040819</td>\\n      <td>1.590702e-32</td>\\n      <td>0.8</td>\\n      <td>0.1</td>\\n      <td>0.10</td>\\n    </tr>\\n    <tr>\\n      <th>13</th>\\n      <td>4.446591e-323</td>\\n      <td>0.000007</td>\\n      <td>1.000000e+00</td>\\n      <td>1.250000</td>\\n      <td>0.078825</td>\\n      <td>0.008671</td>\\n      <td>4.351960e-05</td>\\n      <td>1.254784e-09</td>\\n      <td>0.041701</td>\\n      <td>2.209726e-137</td>\\n      <td>0.8</td>\\n      <td>0.2</td>\\n      <td>0.30</td>\\n    </tr>\\n    <tr>\\n      <th>14</th>\\n      <td>6.916919e-323</td>\\n      <td>0.012476</td>\\n      <td>3.155444e-30</td>\\n      <td>0.000985</td>\\n      <td>0.032476</td>\\n      <td>0.000043</td>\\n      <td>1.255987e-03</td>\\n      <td>2.290225e-09</td>\\n      <td>0.040670</td>\\n      <td>7.603337e-59</td>\\n      <td>0.8</td>\\n      <td>0.3</td>\\n      <td>0.50</td>\\n    </tr>\\n    <tr>\\n      <th>15</th>\\n      <td>6.916919e-323</td>\\n      <td>0.000063</td>\\n      <td>3.155444e-30</td>\\n      <td>0.012236</td>\\n      <td>0.032476</td>\\n      <td>0.000043</td>\\n      <td>1.382950e-04</td>\\n      <td>2.290225e-09</td>\\n      <td>0.040670</td>\\n      <td>7.603337e-59</td>\\n      <td>0.2</td>\\n      <td>0.3</td>\\n      <td>0.10</td>\\n    </tr>\\n    <tr>\\n      <th>16</th>\\n      <td>6.916919e-323</td>\\n      <td>0.000024</td>\\n      <td>3.155444e-30</td>\\n      <td>0.012236</td>\\n      <td>0.032476</td>\\n      <td>0.000043</td>\\n      <td>5.224183e-05</td>\\n      <td>2.290225e-09</td>\\n      <td>0.040670</td>\\n      <td>7.603337e-59</td>\\n      <td>0.5</td>\\n      <td>0.3</td>\\n      <td>0.30</td>\\n    </tr>\\n    <tr>\\n      <th>17</th>\\n      <td>6.916919e-323</td>\\n      <td>0.012476</td>\\n      <td>3.155444e-30</td>\\n      <td>0.000985</td>\\n      <td>0.032476</td>\\n      <td>0.000043</td>\\n      <td>1.255987e-03</td>\\n      <td>2.290225e-09</td>\\n      <td>0.040670</td>\\n      <td>7.603337e-59</td>\\n      <td>0.8</td>\\n      <td>0.3</td>\\n      <td>0.50</td>\\n    </tr>\\n    <tr>\\n      <th>18</th>\\n      <td>1.482197e-323</td>\\n      <td>0.000052</td>\\n      <td>1.000000e+00</td>\\n      <td>0.012235</td>\\n      <td>0.028613</td>\\n      <td>0.004145</td>\\n      <td>1.671792e-05</td>\\n      <td>2.786120e-09</td>\\n      <td>0.040819</td>\\n      <td>1.590702e-32</td>\\n      <td>0.2</td>\\n      <td>0.1</td>\\n      <td>0.10</td>\\n    </tr>\\n    <tr>\\n      <th>19</th>\\n      <td>4.446591e-323</td>\\n      <td>0.000014</td>\\n      <td>1.000000e+00</td>\\n      <td>1.250000</td>\\n      <td>0.078825</td>\\n      <td>0.008671</td>\\n      <td>4.463607e-06</td>\\n      <td>1.254784e-09</td>\\n      <td>0.041701</td>\\n      <td>2.209726e-137</td>\\n      <td>0.5</td>\\n      <td>0.2</td>\\n      <td>0.30</td>\\n    </tr>\\n    <tr>\\n      <th>20</th>\\n      <td>6.916919e-323</td>\\n      <td>0.012476</td>\\n      <td>3.155444e-30</td>\\n      <td>0.000985</td>\\n      <td>0.032476</td>\\n      <td>0.000043</td>\\n      <td>1.255987e-03</td>\\n      <td>2.290225e-09</td>\\n      <td>0.040670</td>\\n      <td>7.603337e-59</td>\\n      <td>0.8</td>\\n      <td>0.3</td>\\n      <td>0.50</td>\\n    </tr>\\n  </tbody>\\n</table>'"
      ]
     },
     "execution_count": 21,
     "metadata": {},
     "output_type": "execute_result"
    }
   ],
   "source": [
    "df = p.read_json('results.json')\n",
    "df.to_html()"
   ]
  },
  {
   "cell_type": "code",
   "execution_count": null,
   "metadata": {
    "collapsed": false
   },
   "outputs": [],
   "source": []
  },
  {
   "cell_type": "code",
   "execution_count": null,
   "metadata": {
    "collapsed": true
   },
   "outputs": [],
   "source": []
  }
 ],
 "metadata": {
  "kernelspec": {
   "display_name": "Python 3",
   "language": "python",
   "name": "python3"
  },
  "language_info": {
   "codemirror_mode": {
    "name": "ipython",
    "version": 3
   },
   "file_extension": ".py",
   "mimetype": "text/x-python",
   "name": "python",
   "nbconvert_exporter": "python",
   "pygments_lexer": "ipython3",
   "version": "3.4.3"
  }
 },
 "nbformat": 4,
 "nbformat_minor": 0
}
